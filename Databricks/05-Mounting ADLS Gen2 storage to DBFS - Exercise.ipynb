{
 "cells": [
  {
   "cell_type": "markdown",
   "metadata": {
    "application/vnd.databricks.v1+cell": {
     "cellMetadata": {},
     "inputWidgets": {},
     "nuid": "26ddf99d-0c1b-41e3-a379-3486568cecde",
     "showTitle": false,
     "title": ""
    }
   },
   "source": [
    "<div style=\"text-align: center; line-height: 0; padding-top: 9px;\">\n",
    "  <img src=\"https://blog.scholarnest.com/wp-content/uploads/2023/03/scholarnest-academy-scaled.jpg\" alt=\"ScholarNest Academy\" style=\"width: 1400px\">\n",
    "</div>"
   ]
  },
  {
   "cell_type": "markdown",
   "metadata": {
    "application/vnd.databricks.v1+cell": {
     "cellMetadata": {},
     "inputWidgets": {},
     "nuid": "5fd7afd4-8643-46d5-aed6-e9fee119876b",
     "showTitle": false,
     "title": ""
    }
   },
   "source": [
    "###Creating your DBFS mount for data storage\n",
    "1. Create ADLS Gen2 Storage account\n",
    "2. Create storage container in your storage account\n",
    "3. Create Azure service principal and secret\n",
    "4. Grant access to service proncipal for storage account\n",
    "5. Mount storage container"
   ]
  },
  {
   "cell_type": "markdown",
   "metadata": {
    "application/vnd.databricks.v1+cell": {
     "cellMetadata": {},
     "inputWidgets": {},
     "nuid": "20defa9f-d6b4-4a3a-9c1f-80863d7a5737",
     "showTitle": false,
     "title": ""
    }
   },
   "source": [
    "####1. Create ADLS Gen2 Storage account\n",
    "* Click \"Create a resource\" on your Azure portal home page\n",
    "* Search for \"Storage account\" and click the create button\n",
    "* Create a storage account using the following\n",
    "    * Choose an appropriate subscription\n",
    "    * Select an existing or Create a new Resource group\n",
    "    * Choose a unique storage account name\n",
    "    * Choose a region (Choose the same region where your Databricks service is created)\n",
    "    * Select performance tier (Standard tier is good enough for learning)\n",
    "    * Choose storage redundency (LRS is good enough for learning)\n",
    "    * Click Advanced button to move to the next step\n",
    "    * Select \"Enable hierarchical namespace\" on the Advanced tab\n",
    "    * Click \"Review\" button\n",
    "    * Click the \"Create\" button after reviewing your settings\n"
   ]
  },
  {
   "cell_type": "markdown",
   "metadata": {
    "application/vnd.databricks.v1+cell": {
     "cellMetadata": {},
     "inputWidgets": {},
     "nuid": "1c307b81-cdff-4b0c-ae83-7348b0c820cc",
     "showTitle": false,
     "title": ""
    }
   },
   "source": [
    "####2. Create storage container in your storage account\n",
    "* Go to your Azure storage account page\n",
    "* Select \"Containers\" from the left side menu\n",
    "* Click \"+ Container\" button from the top menu\n",
    "* Give a name to your containe (Ex dbfs-container)\n",
    "* Click the \"Create\" button"
   ]
  },
  {
   "cell_type": "markdown",
   "metadata": {
    "application/vnd.databricks.v1+cell": {
     "cellMetadata": {},
     "inputWidgets": {},
     "nuid": "70fedf30-2007-487a-85e4-42bc41c45759",
     "showTitle": false,
     "title": ""
    }
   },
   "source": [
    "####3. Create Azure service principal and secret\n",
    "* Go to Azure Active Directory Service page in your Azure account (Azure Active Directory is now Microsoft Entra ID)\n",
    "* Select \"App registrations\" from the left side menu\n",
    "* Click (+ New registration) from the top menu\n",
    "* Give a name to your service principal (Ex databricks-app-principal)\n",
    "* Click the \"Register\" button\n",
    "* Service principal will be created and details will be shown on the service principal page\n",
    "* Copy \"Application (client) ID\" and \"Directory (tenant) ID\" values. You will need them later\n",
    "* Choose \"Certificates & secrets\" from the left menu\n",
    "* Click \"+ New client secret\" on the secrets page\n",
    "* Enter a description (Ex databricks-app-principal-secret)\n",
    "* Select an expiry (Ex 3 Months)\n",
    "* Click the \"Add\" button\n",
    "* Secret will be created and shown on the page\n",
    "* Copy the Secret value. You will need it later\n",
    "\n"
   ]
  },
  {
   "cell_type": "markdown",
   "metadata": {
    "application/vnd.databricks.v1+cell": {
     "cellMetadata": {},
     "inputWidgets": {},
     "nuid": "c9b2ff35-c474-4187-8f24-abea40a87dee",
     "showTitle": false,
     "title": ""
    }
   },
   "source": [
    "####4. Grant access to service principal for storage account\n",
    "* Go to your storage account page\n",
    "* Click \"Access control (IAM)\" from the left menu\n",
    "* Click the \"+ Add\" button and choose \"Add role assignment\"\n",
    "* Search for \"Storage Blob Data Contributor\" role and select it\n",
    "* Click \"Next\" button\n",
    "* Click the \"+ Select members\"\n",
    "* Search for your Databricks service principal (Ex databricks-app-principal) and select it\n",
    "* Clcik \"Select\" button\n",
    "* Click \"Review + assign\" button twice"
   ]
  },
  {
   "cell_type": "markdown",
   "metadata": {
    "application/vnd.databricks.v1+cell": {
     "cellMetadata": {},
     "inputWidgets": {},
     "nuid": "7378b04f-50e9-4323-b8f2-db0a4417ab5c",
     "showTitle": false,
     "title": ""
    }
   },
   "source": [
    "####5. Mount storage container"
   ]
  },
  {
   "cell_type": "markdown",
   "metadata": {
    "application/vnd.databricks.v1+cell": {
     "cellMetadata": {},
     "inputWidgets": {},
     "nuid": "e96184b4-79d7-461c-b2a9-2e9cb43ddd78",
     "showTitle": false,
     "title": ""
    }
   },
   "source": [
    "#####5.1 Define necessory variables"
   ]
  },
  {
   "cell_type": "code",
   "execution_count": 0,
   "metadata": {
    "application/vnd.databricks.v1+cell": {
     "cellMetadata": {},
     "inputWidgets": {},
     "nuid": "fe8f7237-f10c-44eb-9d82-b422b1543c69",
     "showTitle": false,
     "title": ""
    }
   },
   "outputs": [],
   "source": []
  },
  {
   "cell_type": "markdown",
   "metadata": {
    "application/vnd.databricks.v1+cell": {
     "cellMetadata": {},
     "inputWidgets": {},
     "nuid": "87b82392-3af7-4eee-b67e-bb2516d83ef1",
     "showTitle": false,
     "title": ""
    }
   },
   "source": [
    "#####5.2 Define mount configs\n",
    "You can follow the instruction and code sample from below documentation page\n",
    "\n",
    "https://learn.microsoft.com/en-us/azure/databricks/dbfs/mounts#--mount-adls-gen2-or-blob-storage-with-abfs"
   ]
  },
  {
   "cell_type": "code",
   "execution_count": 0,
   "metadata": {
    "application/vnd.databricks.v1+cell": {
     "cellMetadata": {},
     "inputWidgets": {},
     "nuid": "e336637d-700d-4b5c-b66b-9fb1078c94c2",
     "showTitle": false,
     "title": ""
    }
   },
   "outputs": [],
   "source": []
  },
  {
   "cell_type": "markdown",
   "metadata": {
    "application/vnd.databricks.v1+cell": {
     "cellMetadata": {},
     "inputWidgets": {},
     "nuid": "5c99f2ed-1eb2-43ee-8159-a846f6dca9c2",
     "showTitle": false,
     "title": ""
    }
   },
   "source": [
    "#####5.3 Mount the container"
   ]
  },
  {
   "cell_type": "code",
   "execution_count": 0,
   "metadata": {
    "application/vnd.databricks.v1+cell": {
     "cellMetadata": {},
     "inputWidgets": {},
     "nuid": "84ab4f86-2554-4cd1-b959-ae539e9979b6",
     "showTitle": false,
     "title": ""
    }
   },
   "outputs": [],
   "source": []
  },
  {
   "cell_type": "markdown",
   "metadata": {
    "application/vnd.databricks.v1+cell": {
     "cellMetadata": {},
     "inputWidgets": {},
     "nuid": "2513975a-0903-4408-81db-359d31ae1eff",
     "showTitle": false,
     "title": ""
    }
   },
   "source": [
    "#####5.4. List contents of your mount point"
   ]
  },
  {
   "cell_type": "code",
   "execution_count": 0,
   "metadata": {
    "application/vnd.databricks.v1+cell": {
     "cellMetadata": {},
     "inputWidgets": {},
     "nuid": "4943b569-a98e-438f-99fd-041b5ed3bb51",
     "showTitle": false,
     "title": ""
    }
   },
   "outputs": [],
   "source": []
  },
  {
   "cell_type": "markdown",
   "metadata": {
    "application/vnd.databricks.v1+cell": {
     "cellMetadata": {},
     "inputWidgets": {},
     "nuid": "65cc53f9-337c-4589-967e-5fea75275b72",
     "showTitle": false,
     "title": ""
    }
   },
   "source": [
    "#####5.5. Upload files to your mounted location"
   ]
  },
  {
   "cell_type": "markdown",
   "metadata": {
    "application/vnd.databricks.v1+cell": {
     "cellMetadata": {},
     "inputWidgets": {},
     "nuid": "7748300b-4ccb-4ea2-89ee-9eb7a34448ea",
     "showTitle": false,
     "title": ""
    }
   },
   "source": [
    "#####5.6. List contents of your mount point"
   ]
  },
  {
   "cell_type": "code",
   "execution_count": 0,
   "metadata": {
    "application/vnd.databricks.v1+cell": {
     "cellMetadata": {},
     "inputWidgets": {},
     "nuid": "25f07546-a6ce-4213-9d69-532570c2734d",
     "showTitle": false,
     "title": ""
    }
   },
   "outputs": [],
   "source": []
  },
  {
   "cell_type": "markdown",
   "metadata": {
    "application/vnd.databricks.v1+cell": {
     "cellMetadata": {},
     "inputWidgets": {},
     "nuid": "d7552551-c155-44b6-8441-576b6a028d03",
     "showTitle": false,
     "title": ""
    }
   },
   "source": [
    "#####5.7. Unmount /mnt/data directory"
   ]
  },
  {
   "cell_type": "code",
   "execution_count": 0,
   "metadata": {
    "application/vnd.databricks.v1+cell": {
     "cellMetadata": {},
     "inputWidgets": {},
     "nuid": "830bd9dc-6137-4a04-8145-83a5658d06a5",
     "showTitle": false,
     "title": ""
    }
   },
   "outputs": [],
   "source": []
  },
  {
   "cell_type": "markdown",
   "metadata": {
    "application/vnd.databricks.v1+cell": {
     "cellMetadata": {},
     "inputWidgets": {},
     "nuid": "d9d580ca-2898-49db-9fc8-e6e2f44535ad",
     "showTitle": false,
     "title": ""
    }
   },
   "source": [
    "&copy; 2021-2023 ScholarNest Technologies Pvt. Ltd. All rights reserved.<br/>\n",
    "Apache, Apache Spark, Spark and the Spark logo are trademarks of the <a href=\"https://www.apache.org/\">Apache Software Foundation</a>.<br/>\n",
    "Databricks, Databricks Cloud and the Databricks logo are trademarks of the <a href=\"https://www.databricks.com/\">Databricks Inc</a>.<br/>\n",
    "<br/>\n",
    "<a href=\"https://www.scholarnest.com/privacy/\">Privacy Policy</a> | \n",
    "<a href=\"https://www.scholarnest.com/terms/\">Terms of Use</a> | <a href=\"https://www.scholarnest.com/contact/\">Contact Us</a>"
   ]
  }
 ],
 "metadata": {
  "application/vnd.databricks.v1+notebook": {
   "dashboards": [],
   "language": "python",
   "notebookMetadata": {
    "pythonIndentUnit": 4
   },
   "notebookName": "05-Mounting ADLS Gen2 storage to DBFS - Exercise",
   "widgets": {}
  }
 },
 "nbformat": 4,
 "nbformat_minor": 0
}
