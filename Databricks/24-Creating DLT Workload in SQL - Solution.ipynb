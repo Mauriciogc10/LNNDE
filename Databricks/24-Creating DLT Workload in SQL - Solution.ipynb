{
 "cells": [
  {
   "cell_type": "markdown",
   "metadata": {
    "application/vnd.databricks.v1+cell": {
     "cellMetadata": {},
     "inputWidgets": {},
     "nuid": "bbda9784-897d-4fb6-9592-71ee0e994643",
     "showTitle": false,
     "title": ""
    }
   },
   "source": [
    "<div style=\"text-align: center; line-height: 0; padding-top: 9px;\">\n",
    "  <img src=\"https://blog.scholarnest.com/wp-content/uploads/2023/03/scholarnest-academy-scaled.jpg\" alt=\"ScholarNest Academy\" style=\"width: 1400px\">\n",
    "</div>"
   ]
  },
  {
   "cell_type": "markdown",
   "metadata": {
    "application/vnd.databricks.v1+cell": {
     "cellMetadata": {},
     "inputWidgets": {},
     "nuid": "b5b7c86c-9b90-4a68-aab4-9a4a644d144b",
     "showTitle": false,
     "title": ""
    }
   },
   "source": [
    "#####1. Create your bronze layer tables ingesting from the landing zone"
   ]
  },
  {
   "cell_type": "code",
   "execution_count": 0,
   "metadata": {
    "application/vnd.databricks.v1+cell": {
     "cellMetadata": {},
     "inputWidgets": {},
     "nuid": "4cebb138-bad8-4f2d-8c21-e9cfbbb6e223",
     "showTitle": false,
     "title": ""
    }
   },
   "outputs": [],
   "source": [
    "%sql\n",
    "CREATE OR REFRESH STREAMING TABLE customers_raw\n",
    "AS SELECT *, current_timestamp() as load_time\n",
    "FROM cloud_files('/Volumes/dev/demo_db/landing_zone/customers', \n",
    "                 \"csv\", map(\"cloudFiles.inferColumnTypes\", \"true\"))"
   ]
  },
  {
   "cell_type": "code",
   "execution_count": 0,
   "metadata": {
    "application/vnd.databricks.v1+cell": {
     "cellMetadata": {},
     "inputWidgets": {},
     "nuid": "de29fa6c-87e0-4412-86cc-cebe26f9083c",
     "showTitle": false,
     "title": ""
    }
   },
   "outputs": [],
   "source": [
    "%sql\n",
    "CREATE OR REFRESH STREAMING TABLE invoices_raw\n",
    "AS SELECT *, current_timestamp() as load_time\n",
    "FROM cloud_files(\"/Volumes/dev/demo_db/landing_zone/invoices\", \n",
    "                 \"csv\", map(\"cloudFiles.inferColumnTypes\", \"true\"))"
   ]
  },
  {
   "cell_type": "markdown",
   "metadata": {
    "application/vnd.databricks.v1+cell": {
     "cellMetadata": {},
     "inputWidgets": {},
     "nuid": "2e49bba0-a4e6-41bf-8ee1-4818087eb8f7",
     "showTitle": false,
     "title": ""
    }
   },
   "source": [
    "#####2. Create your silver layer tables reading incremental data from bronze layer"
   ]
  },
  {
   "cell_type": "code",
   "execution_count": 0,
   "metadata": {
    "application/vnd.databricks.v1+cell": {
     "cellMetadata": {},
     "inputWidgets": {},
     "nuid": "b95fc061-0ec7-47a6-8ef3-3eac8c1b474b",
     "showTitle": false,
     "title": ""
    }
   },
   "outputs": [],
   "source": [
    "%sql\n",
    "CREATE OR REFRESH STREAMING TABLE customers_cleaned (\n",
    "    CONSTRAINT valid_customer EXPECT (customer_id IS NOT NULL) ON VIOLATION DROP ROW)\n",
    "AS \n",
    "SELECT CustomerID as customer_id, CustomerName as customer_name, load_time   \n",
    "FROM STREAM(LIVE.customers_raw)"
   ]
  },
  {
   "cell_type": "code",
   "execution_count": 0,
   "metadata": {
    "application/vnd.databricks.v1+cell": {
     "cellMetadata": {},
     "inputWidgets": {},
     "nuid": "ab59f486-88e3-4500-bcbb-b3e3eed710f2",
     "showTitle": false,
     "title": ""
    }
   },
   "outputs": [],
   "source": [
    "%sql\n",
    "CREATE OR REFRESH STREAMING TABLE invoices_cleaned (\n",
    "    CONSTRAINT valid_invoice_and_qty EXPECT (invoice_no IS NOT NULL AND quantity > 0) ON VIOLATION DROP ROW)\n",
    "    PARTITIONED BY (invoice_year, country)\n",
    "AS\n",
    "SELECT InvoiceNo as invoice_no, StockCode as stock_code, Description as description,\n",
    "        Quantity as quantity, to_date(InvoiceDate, \"d-M-y H.m\") as invoice_date, \n",
    "        UnitPrice as unit_price, CustomerID as customer_id, Country as country,\n",
    "        year(to_date(InvoiceDate, \"d-M-y H.m\")) as invoice_year, \n",
    "        month(to_date(InvoiceDate, \"d-M-y H.m\")) as invoice_month,\n",
    "        load_time\n",
    "FROM STREAM(LIVE.invoices_raw)"
   ]
  },
  {
   "cell_type": "markdown",
   "metadata": {
    "application/vnd.databricks.v1+cell": {
     "cellMetadata": {
      "byteLimit": 2048000,
      "rowLimit": 10000
     },
     "inputWidgets": {},
     "nuid": "fd3aa273-c7ba-48b1-a75e-635d9c3162f6",
     "showTitle": false,
     "title": ""
    }
   },
   "source": [
    "#####3. Build your SCD Type 2 dimensions using CDC from silver layer"
   ]
  },
  {
   "cell_type": "code",
   "execution_count": 0,
   "metadata": {
    "application/vnd.databricks.v1+cell": {
     "cellMetadata": {},
     "inputWidgets": {},
     "nuid": "d15b18e9-8562-4691-bd6f-6a57e31bcee0",
     "showTitle": false,
     "title": ""
    }
   },
   "outputs": [],
   "source": [
    "%sql\n",
    "CREATE OR REFRESH STREAMING TABLE customers;\n",
    "\n",
    "APPLY CHANGES INTO LIVE.customers\n",
    "FROM STREAM(LIVE.customers_cleaned)\n",
    "KEYS (customer_id)\n",
    "SEQUENCE BY load_time\n",
    "STORED AS SCD TYPE 2;"
   ]
  },
  {
   "cell_type": "markdown",
   "metadata": {
    "application/vnd.databricks.v1+cell": {
     "cellMetadata": {},
     "inputWidgets": {},
     "nuid": "bdaa3ed3-a480-407c-9c5c-740d85b78636",
     "showTitle": false,
     "title": ""
    }
   },
   "source": [
    "#####4. Merge into your fact table using CDC from the silver layer"
   ]
  },
  {
   "cell_type": "code",
   "execution_count": 0,
   "metadata": {
    "application/vnd.databricks.v1+cell": {
     "cellMetadata": {},
     "inputWidgets": {},
     "nuid": "6a06c115-fc2e-4130-8823-4dd9469e52e1",
     "showTitle": false,
     "title": ""
    }
   },
   "outputs": [],
   "source": [
    "%sql\n",
    "CREATE OR REFRESH STREAMING TABLE invoices PARTITIONED BY (invoice_year, country);\n",
    "\n",
    "APPLY CHANGES INTO LIVE.invoices\n",
    "FROM STREAM(LIVE.invoices_cleaned)\n",
    "KEYS (invoice_no, stock_code, invoice_date)\n",
    "SEQUENCE BY load_time"
   ]
  },
  {
   "cell_type": "markdown",
   "metadata": {
    "application/vnd.databricks.v1+cell": {
     "cellMetadata": {},
     "inputWidgets": {},
     "nuid": "d1286e1e-9fbd-4ad6-90bb-e38e7522e4ae",
     "showTitle": false,
     "title": ""
    }
   },
   "source": [
    "#####5. Materialize your gold layer summary using silver layer fact"
   ]
  },
  {
   "cell_type": "code",
   "execution_count": 0,
   "metadata": {
    "application/vnd.databricks.v1+cell": {
     "cellMetadata": {},
     "inputWidgets": {},
     "nuid": "bb534120-0ce6-43b6-b5cf-213c9535fcd2",
     "showTitle": false,
     "title": ""
    }
   },
   "outputs": [],
   "source": [
    "%sql\n",
    "CREATE LIVE TABLE daily_sales_uk_2022\n",
    "AS SELECT country, invoice_year, invoice_month, invoice_date,\n",
    "          round(sum(quantity*unit_price),2) as total_sales\n",
    "FROM LIVE.invoices\n",
    "WHERE invoice_year = 2022 AND country=\"United Kingdom\"\n",
    "GROUP BY country, invoice_year, invoice_month, invoice_date"
   ]
  },
  {
   "cell_type": "markdown",
   "metadata": {
    "application/vnd.databricks.v1+cell": {
     "cellMetadata": {},
     "inputWidgets": {},
     "nuid": "d78efe7f-51e1-494d-bf99-3cc51bfe9caf",
     "showTitle": false,
     "title": ""
    }
   },
   "source": [
    "&copy; 2021-2023 ScholarNest Technologies Pvt. Ltd. All rights reserved.<br/>\n",
    "Apache, Apache Spark, Spark and the Spark logo are trademarks of the <a href=\"https://www.apache.org/\">Apache Software Foundation</a>.<br/>\n",
    "Databricks, Databricks Cloud and the Databricks logo are trademarks of the <a href=\"https://www.databricks.com/\">Databricks Inc</a>.<br/>\n",
    "<br/>\n",
    "<a href=\"https://www.scholarnest.com/privacy/\">Privacy Policy</a> | \n",
    "<a href=\"https://www.scholarnest.com/terms/\">Terms of Use</a> | <a href=\"https://www.scholarnest.com/contact/\">Contact Us</a>"
   ]
  }
 ],
 "metadata": {
  "application/vnd.databricks.v1+notebook": {
   "dashboards": [],
   "language": "python",
   "notebookMetadata": {
    "pythonIndentUnit": 4
   },
   "notebookName": "24-Creating DLT Workload in SQL - Solution",
   "widgets": {}
  }
 },
 "nbformat": 4,
 "nbformat_minor": 0
}
