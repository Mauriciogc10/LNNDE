{
 "cells": [
  {
   "cell_type": "markdown",
   "metadata": {
    "application/vnd.databricks.v1+cell": {
     "cellMetadata": {},
     "inputWidgets": {},
     "nuid": "e260622b-5ca0-4326-9232-5982ef4f235e",
     "showTitle": false,
     "title": ""
    }
   },
   "source": [
    "<div style=\"text-align: center; line-height: 0; padding-top: 9px;\">\n",
    "  <img src=\"https://blog.scholarnest.com/wp-content/uploads/2023/03/scholarnest-academy-scaled.jpg\" alt=\"ScholarNest Academy\" style=\"width: 1400px\">\n",
    "</div>"
   ]
  },
  {
   "cell_type": "markdown",
   "metadata": {
    "application/vnd.databricks.v1+cell": {
     "cellMetadata": {},
     "inputWidgets": {},
     "nuid": "3be1aaa2-3ea8-479e-8b4d-500e0b532cfd",
     "showTitle": false,
     "title": ""
    }
   },
   "source": [
    "#####Cleanup previous runs"
   ]
  },
  {
   "cell_type": "code",
   "execution_count": 0,
   "metadata": {
    "application/vnd.databricks.v1+cell": {
     "cellMetadata": {
      "byteLimit": 2048000,
      "rowLimit": 10000
     },
     "inputWidgets": {},
     "nuid": "973aba48-c8a6-494c-a963-984fb7dbc428",
     "showTitle": false,
     "title": ""
    }
   },
   "outputs": [],
   "source": [
    "%run ../utils/cleanup"
   ]
  },
  {
   "cell_type": "markdown",
   "metadata": {
    "application/vnd.databricks.v1+cell": {
     "cellMetadata": {},
     "inputWidgets": {},
     "nuid": "b365aacc-7c4a-410b-9e0b-07a1e15d85a3",
     "showTitle": false,
     "title": ""
    }
   },
   "source": [
    "#####Setup"
   ]
  },
  {
   "cell_type": "code",
   "execution_count": 0,
   "metadata": {
    "application/vnd.databricks.v1+cell": {
     "cellMetadata": {
      "byteLimit": 2048000,
      "rowLimit": 10000
     },
     "inputWidgets": {},
     "nuid": "d492698e-8873-426c-848e-ed5eb733ad5b",
     "showTitle": false,
     "title": ""
    }
   },
   "outputs": [],
   "source": [
    "spark.sql(\"CREATE CATALOG IF NOT EXISTS dev\")\n",
    "spark.sql(\"CREATE DATABASE IF NOT EXISTS dev.demo_db\")\n",
    "spark.sql(\"CREATE VOLUME IF NOT EXISTS dev.demo_db.files\")\n",
    "\n",
    "raw_df = (spark.read\n",
    "            .format(\"csv\")\n",
    "            .option(\"header\", \"true\")\n",
    "            .option(\"inferSchema\",\"true\")\n",
    "            .load(\"/databricks-datasets/learning-spark-v2/sf-fire/sf-fire-calls.csv\")\n",
    ")\n",
    "\n",
    "from pyspark.sql.functions import to_date, to_timestamp, round, year\n",
    "staging_df = (raw_df.withColumnRenamed(\"Call Number\", \"CallNumber\")\n",
    "                    .withColumnRenamed(\"Unit ID\", \"UnitID\")\n",
    "                    .withColumnRenamed(\"Incident Number\", \"IncidentNumber\")\n",
    "                    .withColumnRenamed(\"Call Date\", \"CallDate\")\n",
    "                    .withColumnRenamed(\"Watch Date\", \"WatchDate\")\n",
    "                    .withColumnRenamed(\"Call Final Disposition\", \"CallFinalDisposition\")\n",
    "                    .withColumnRenamed(\"Available DtTm\", \"AvailableDtTm\")\n",
    "                    .withColumnRenamed(\"Zipcode of Incident\", \"Zipcode\")\n",
    "                    .withColumnRenamed(\"Station Area\", \"StationArea\")\n",
    "                    .withColumnRenamed(\"Final Priority\", \"FinalPriority\")\n",
    "                    .withColumnRenamed(\"ALS Unit\", \"ALSUnit\")\n",
    "                    .withColumnRenamed(\"Call Type Group\", \"CallTypeGroup\")\n",
    "                    .withColumnRenamed(\"Unit sequence in call dispatch\", \"UnitSequenceInCallDispatch\")\n",
    "                    .withColumnRenamed(\"Fire Prevention District\", \"FirePreventionDistrict\")\n",
    "                    .withColumnRenamed(\"Supervisor District\", \"SupervisorDistrict\")\n",
    "                    .withColumn(\"CallDate\", to_date(\"CallDate\", \"MM/dd/yyyy\"))\n",
    "                    .withColumn(\"WatchDate\", to_date(\"WatchDate\", \"MM/dd/yyyy\"))\n",
    "                    .withColumn(\"AvailableDtTm\", to_timestamp(\"AvailableDtTm\", \"MM/dd/yyyy hh:mm:ss a\"))\n",
    "                    .withColumn(\"Delay\", round(\"Delay\", 2))\n",
    "                    .withColumn(\"Year\", year(\"CallDate\"))\n",
    ")\n",
    "\n",
    "(staging_df.write\n",
    "        .format(\"parquet\")\n",
    "        .mode(\"overwrite\")\n",
    "        .partitionBy(\"Year\")\n",
    "        .save(\"/Volumes/dev/demo_db/files/fire_calls_tbl\")\n",
    ")"
   ]
  },
  {
   "cell_type": "markdown",
   "metadata": {
    "application/vnd.databricks.v1+cell": {
     "cellMetadata": {},
     "inputWidgets": {},
     "nuid": "347f7c16-7e57-41ac-8c9e-8bb0e5aa6596",
     "showTitle": false,
     "title": ""
    }
   },
   "source": [
    "#####1. Check the details of the parquet data set"
   ]
  },
  {
   "cell_type": "code",
   "execution_count": 0,
   "metadata": {
    "application/vnd.databricks.v1+cell": {
     "cellMetadata": {
      "byteLimit": 2048000,
      "rowLimit": 10000
     },
     "inputWidgets": {},
     "nuid": "c4e56fe1-0627-4601-9e51-11a47abffecc",
     "showTitle": false,
     "title": ""
    }
   },
   "outputs": [],
   "source": []
  },
  {
   "cell_type": "markdown",
   "metadata": {
    "application/vnd.databricks.v1+cell": {
     "cellMetadata": {},
     "inputWidgets": {},
     "nuid": "6c296283-892d-4d81-9a19-9245d1d81df1",
     "showTitle": false,
     "title": ""
    }
   },
   "source": [
    "#####2. Convert Parquet data set to delta data set"
   ]
  },
  {
   "cell_type": "code",
   "execution_count": 0,
   "metadata": {
    "application/vnd.databricks.v1+cell": {
     "cellMetadata": {
      "byteLimit": 2048000,
      "implicitDf": true,
      "rowLimit": 10000
     },
     "inputWidgets": {},
     "nuid": "e9b2caef-0f1f-4929-91b8-81db3784ceca",
     "showTitle": false,
     "title": ""
    }
   },
   "outputs": [],
   "source": []
  },
  {
   "cell_type": "code",
   "execution_count": 0,
   "metadata": {
    "application/vnd.databricks.v1+cell": {
     "cellMetadata": {
      "byteLimit": 2048000,
      "rowLimit": 10000
     },
     "inputWidgets": {},
     "nuid": "8718ff29-2bdd-4fcb-a65a-27ccedc428cc",
     "showTitle": false,
     "title": ""
    }
   },
   "outputs": [],
   "source": []
  },
  {
   "cell_type": "markdown",
   "metadata": {
    "application/vnd.databricks.v1+cell": {
     "cellMetadata": {},
     "inputWidgets": {},
     "nuid": "d8ae8866-6e65-4c43-9cd5-ff6fe11ecf47",
     "showTitle": false,
     "title": ""
    }
   },
   "source": [
    "#####3. Show the version history for fire_calls_tbl data after converting to delta format"
   ]
  },
  {
   "cell_type": "code",
   "execution_count": 0,
   "metadata": {
    "application/vnd.databricks.v1+cell": {
     "cellMetadata": {
      "byteLimit": 2048000,
      "implicitDf": true,
      "rowLimit": 10000
     },
     "inputWidgets": {},
     "nuid": "116635c6-2367-4bb7-a0f7-46a3ae689273",
     "showTitle": false,
     "title": ""
    }
   },
   "outputs": [],
   "source": []
  },
  {
   "cell_type": "markdown",
   "metadata": {
    "application/vnd.databricks.v1+cell": {
     "cellMetadata": {},
     "inputWidgets": {},
     "nuid": "99682aa7-76b2-4674-9d97-ec17258708ab",
     "showTitle": false,
     "title": ""
    }
   },
   "source": [
    "&copy; 2021-2023 ScholarNest Technologies Pvt. Ltd. All rights reserved.<br/>\n",
    "Apache, Apache Spark, Spark and the Spark logo are trademarks of the <a href=\"https://www.apache.org/\">Apache Software Foundation</a>.<br/>\n",
    "Databricks, Databricks Cloud and the Databricks logo are trademarks of the <a href=\"https://www.databricks.com/\">Databricks Inc</a>.<br/>\n",
    "<br/>\n",
    "<a href=\"https://www.scholarnest.com/privacy/\">Privacy Policy</a> | \n",
    "<a href=\"https://www.scholarnest.com/terms/\">Terms of Use</a> | <a href=\"https://www.scholarnest.com/contact/\">Contact Us</a>"
   ]
  }
 ],
 "metadata": {
  "application/vnd.databricks.v1+notebook": {
   "dashboards": [],
   "language": "python",
   "notebookMetadata": {
    "mostRecentlyExecutedCommandWithImplicitDF": {
     "commandId": 2294196522737167,
     "dataframes": [
      "_sqldf"
     ]
    },
    "pythonIndentUnit": 4
   },
   "notebookName": "13-Convert Parquet to Delta - Exercise",
   "widgets": {}
  }
 },
 "nbformat": 4,
 "nbformat_minor": 0
}
