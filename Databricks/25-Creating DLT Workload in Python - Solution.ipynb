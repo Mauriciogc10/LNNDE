{
 "cells": [
  {
   "cell_type": "markdown",
   "metadata": {
    "application/vnd.databricks.v1+cell": {
     "cellMetadata": {},
     "inputWidgets": {},
     "nuid": "bbda9784-897d-4fb6-9592-71ee0e994643",
     "showTitle": false,
     "title": ""
    }
   },
   "source": [
    "<div style=\"text-align: center; line-height: 0; padding-top: 9px;\">\n",
    "  <img src=\"https://blog.scholarnest.com/wp-content/uploads/2023/03/scholarnest-academy-scaled.jpg\" alt=\"ScholarNest Academy\" style=\"width: 1400px\">\n",
    "</div>"
   ]
  },
  {
   "cell_type": "code",
   "execution_count": 0,
   "metadata": {
    "application/vnd.databricks.v1+cell": {
     "cellMetadata": {},
     "inputWidgets": {},
     "nuid": "dff37c46-46d1-43f6-8f67-f5a843f987b5",
     "showTitle": false,
     "title": ""
    }
   },
   "outputs": [],
   "source": [
    "import dlt\n",
    "from pyspark.sql.functions import *"
   ]
  },
  {
   "cell_type": "markdown",
   "metadata": {
    "application/vnd.databricks.v1+cell": {
     "cellMetadata": {},
     "inputWidgets": {},
     "nuid": "b5b7c86c-9b90-4a68-aab4-9a4a644d144b",
     "showTitle": false,
     "title": ""
    }
   },
   "source": [
    "#####1. Create your bronze layer tables ingesting from the landing zone"
   ]
  },
  {
   "cell_type": "code",
   "execution_count": 0,
   "metadata": {
    "application/vnd.databricks.v1+cell": {
     "cellMetadata": {},
     "inputWidgets": {},
     "nuid": "63cf77e7-5482-4af4-9d50-b0b185b55bd4",
     "showTitle": false,
     "title": ""
    }
   },
   "outputs": [],
   "source": [
    "@dlt.table(name=\"customers_raw\")\n",
    "def get_customers_raw():\n",
    "  return (spark.readStream\n",
    "               .format(\"cloudFiles\")\n",
    "               .option(\"cloudFiles.format\", \"csv\")\n",
    "               .option(\"cloudFiles.inferColumnTypes\", \"true\")\n",
    "               .load(\"/Volumes/dev/demo_db/landing_zone/customers\")\n",
    "               .withColumn(\"load_time\", current_timestamp())\n",
    "        )"
   ]
  },
  {
   "cell_type": "code",
   "execution_count": 0,
   "metadata": {
    "application/vnd.databricks.v1+cell": {
     "cellMetadata": {},
     "inputWidgets": {},
     "nuid": "1b035410-d3e3-4ec9-be34-48da9063ee2c",
     "showTitle": false,
     "title": ""
    }
   },
   "outputs": [],
   "source": [
    "@dlt.table(name=\"invoices_raw\")\n",
    "def get_invoices_raw():\n",
    "  return (spark.readStream\n",
    "               .format(\"cloudFiles\")\n",
    "               .option(\"cloudFiles.format\", \"csv\")\n",
    "               .option(\"cloudFiles.inferColumnTypes\", \"true\")\n",
    "               .load(\"/Volumes/dev/demo_db/landing_zone/invoices\")\n",
    "               .withColumn(\"load_time\", current_timestamp())\n",
    "        )"
   ]
  },
  {
   "cell_type": "markdown",
   "metadata": {
    "application/vnd.databricks.v1+cell": {
     "cellMetadata": {},
     "inputWidgets": {},
     "nuid": "2e49bba0-a4e6-41bf-8ee1-4818087eb8f7",
     "showTitle": false,
     "title": ""
    }
   },
   "source": [
    "#####2. Create your silver layer tables reading incremental data from bronze layer"
   ]
  },
  {
   "cell_type": "code",
   "execution_count": 0,
   "metadata": {
    "application/vnd.databricks.v1+cell": {
     "cellMetadata": {},
     "inputWidgets": {},
     "nuid": "f8f33e9d-45c7-45a0-9ebb-c156b7f7ee3e",
     "showTitle": false,
     "title": ""
    }
   },
   "outputs": [],
   "source": [
    "@dlt.table(name=\"customers_cleaned\")\n",
    "@dlt.expect_or_drop(\"valid_customer\", \"customer_id is not null\")\n",
    "def get_customers_cleaned():\n",
    "  return (spark.readStream\n",
    "               .format(\"delta\")\n",
    "               .table(\"live.customers_raw\")\n",
    "               .selectExpr(\"CustomerID as customer_id\", \"CustomerName as customer_name\", \"load_time\")\n",
    "        )"
   ]
  },
  {
   "cell_type": "code",
   "execution_count": 0,
   "metadata": {
    "application/vnd.databricks.v1+cell": {
     "cellMetadata": {},
     "inputWidgets": {},
     "nuid": "66b23536-8309-4462-8c96-21a54430dd6f",
     "showTitle": false,
     "title": ""
    }
   },
   "outputs": [],
   "source": [
    "@dlt.table(name=\"invoices_cleaned\", partition_cols = [\"invoice_year\", \"country\"])\n",
    "@dlt.expect_or_drop(\"valid_invoice_and_qty\", \"invoice_no is not null and quantity > 0\")\n",
    "def get_invoices_cleaned():\n",
    "  return (spark.readStream\n",
    "               .format(\"delta\")\n",
    "               .table(\"live.invoices_raw\")\n",
    "               .selectExpr(\"InvoiceNo as invoice_no\", \"StockCode as stock_code\", \"Description as description\",\n",
    "                           \"Quantity as quantity\", \"to_date(InvoiceDate, 'd-M-y H.m') as invoice_date\", \n",
    "                           \"UnitPrice as unit_price\", \"CustomerID as customer_id\", \"Country as country\",\n",
    "                           \"year(to_date(InvoiceDate, 'd-M-y H.m')) as invoice_year\", \n",
    "                           \"month(to_date(InvoiceDate, 'd-M-y H.m')) as invoice_month\", \"load_time\"                   \n",
    "               )\n",
    "        )"
   ]
  },
  {
   "cell_type": "markdown",
   "metadata": {
    "application/vnd.databricks.v1+cell": {
     "cellMetadata": {
      "byteLimit": 2048000,
      "rowLimit": 10000
     },
     "inputWidgets": {},
     "nuid": "fd3aa273-c7ba-48b1-a75e-635d9c3162f6",
     "showTitle": false,
     "title": ""
    }
   },
   "source": [
    "#####3. Build your SCD Type 2 dimensions using CDC from silver layer"
   ]
  },
  {
   "cell_type": "code",
   "execution_count": 0,
   "metadata": {
    "application/vnd.databricks.v1+cell": {
     "cellMetadata": {},
     "inputWidgets": {},
     "nuid": "4f39e109-edd3-4414-9b33-327c83e09f79",
     "showTitle": false,
     "title": ""
    }
   },
   "outputs": [],
   "source": [
    "dlt.create_streaming_table(\"customers\")\n",
    "\n",
    "dlt.apply_changes(\n",
    "  target = \"customers\",\n",
    "  source = \"customers_cleaned\",\n",
    "  keys = [\"customer_id\"],\n",
    "  sequence_by = col(\"load_time\"),\n",
    "  stored_as_scd_type = 2\n",
    ")"
   ]
  },
  {
   "cell_type": "markdown",
   "metadata": {
    "application/vnd.databricks.v1+cell": {
     "cellMetadata": {},
     "inputWidgets": {},
     "nuid": "bdaa3ed3-a480-407c-9c5c-740d85b78636",
     "showTitle": false,
     "title": ""
    }
   },
   "source": [
    "#####4. Merge into your fact table using CDC from the silver layer"
   ]
  },
  {
   "cell_type": "code",
   "execution_count": 0,
   "metadata": {
    "application/vnd.databricks.v1+cell": {
     "cellMetadata": {},
     "inputWidgets": {},
     "nuid": "b4d62126-ff44-4eab-a116-229e1912d614",
     "showTitle": false,
     "title": ""
    }
   },
   "outputs": [],
   "source": [
    "dlt.create_streaming_table(\"invoices\", partition_cols = [\"invoice_year\", \"country\"])\n",
    "\n",
    "dlt.apply_changes(\n",
    "  target = \"invoices\",\n",
    "  source = \"invoices_cleaned\",\n",
    "  keys = [\"invoice_no\", \"stock_code\", \"invoice_date\"],\n",
    "  sequence_by = col(\"load_time\")\n",
    ")"
   ]
  },
  {
   "cell_type": "markdown",
   "metadata": {
    "application/vnd.databricks.v1+cell": {
     "cellMetadata": {},
     "inputWidgets": {},
     "nuid": "d1286e1e-9fbd-4ad6-90bb-e38e7522e4ae",
     "showTitle": false,
     "title": ""
    }
   },
   "source": [
    "#####5. Materialize your gold layer summary using silver layer fact"
   ]
  },
  {
   "cell_type": "code",
   "execution_count": 0,
   "metadata": {
    "application/vnd.databricks.v1+cell": {
     "cellMetadata": {},
     "inputWidgets": {},
     "nuid": "5fa2967d-e1d9-4867-ad92-9d1fa7e05d26",
     "showTitle": false,
     "title": ""
    }
   },
   "outputs": [],
   "source": [
    "@dlt.table(name=\"daily_sales_uk_2022\")\n",
    "def compute_daily_sales_uk_2022():\n",
    "  return (spark.read\n",
    "               .format(\"delta\")\n",
    "               .table(\"live.invoices\")\n",
    "               .where(\"invoice_year = 2022 AND country = 'United Kingdom'\")\n",
    "               .groupBy(\"country\", \"invoice_year\", \"invoice_month\", \"invoice_date\")\n",
    "               .agg(expr(\"round(sum(quantity*unit_price),2)\").alias(\"total_sales\"))\n",
    "        )"
   ]
  },
  {
   "cell_type": "markdown",
   "metadata": {
    "application/vnd.databricks.v1+cell": {
     "cellMetadata": {},
     "inputWidgets": {},
     "nuid": "d78efe7f-51e1-494d-bf99-3cc51bfe9caf",
     "showTitle": false,
     "title": ""
    }
   },
   "source": [
    "&copy; 2021-2023 ScholarNest Technologies Pvt. Ltd. All rights reserved.<br/>\n",
    "Apache, Apache Spark, Spark and the Spark logo are trademarks of the <a href=\"https://www.apache.org/\">Apache Software Foundation</a>.<br/>\n",
    "Databricks, Databricks Cloud and the Databricks logo are trademarks of the <a href=\"https://www.databricks.com/\">Databricks Inc</a>.<br/>\n",
    "<br/>\n",
    "<a href=\"https://www.scholarnest.com/privacy/\">Privacy Policy</a> | \n",
    "<a href=\"https://www.scholarnest.com/terms/\">Terms of Use</a> | <a href=\"https://www.scholarnest.com/contact/\">Contact Us</a>"
   ]
  }
 ],
 "metadata": {
  "application/vnd.databricks.v1+notebook": {
   "dashboards": [],
   "language": "python",
   "notebookMetadata": {
    "pythonIndentUnit": 4
   },
   "notebookName": "25-Creating DLT Workload in Python - Solution",
   "widgets": {}
  }
 },
 "nbformat": 4,
 "nbformat_minor": 0
}
