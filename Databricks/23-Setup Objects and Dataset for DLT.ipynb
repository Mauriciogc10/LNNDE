{
 "cells": [
  {
   "cell_type": "markdown",
   "metadata": {
    "application/vnd.databricks.v1+cell": {
     "cellMetadata": {
      "byteLimit": 2048000,
      "rowLimit": 10000
     },
     "inputWidgets": {},
     "nuid": "82115699-24c5-4743-a1cd-83404dba8265",
     "showTitle": false,
     "title": ""
    }
   },
   "source": [
    "#####1. Create a multinode shared mode cluster to work with DLT generated tables"
   ]
  },
  {
   "cell_type": "markdown",
   "metadata": {
    "application/vnd.databricks.v1+cell": {
     "cellMetadata": {
      "byteLimit": 2048000,
      "rowLimit": 10000
     },
     "inputWidgets": {},
     "nuid": "29c7eecc-2da1-4b0c-a0f6-208c69160f96",
     "showTitle": false,
     "title": ""
    }
   },
   "source": [
    "#####2. Cleanup previous runs"
   ]
  },
  {
   "cell_type": "code",
   "execution_count": 0,
   "metadata": {
    "application/vnd.databricks.v1+cell": {
     "cellMetadata": {
      "byteLimit": 2048000,
      "rowLimit": 10000
     },
     "inputWidgets": {},
     "nuid": "aaee8aa9-acdd-4d08-a2af-85125e1ef235",
     "showTitle": false,
     "title": ""
    }
   },
   "outputs": [],
   "source": [
    "%run ../utils/cleanup"
   ]
  },
  {
   "cell_type": "markdown",
   "metadata": {
    "application/vnd.databricks.v1+cell": {
     "cellMetadata": {
      "byteLimit": 2048000,
      "rowLimit": 10000
     },
     "inputWidgets": {},
     "nuid": "925c3734-fec0-4eec-837e-d32578dc200b",
     "showTitle": false,
     "title": ""
    }
   },
   "source": [
    "#####3. Setup the catalog and external location"
   ]
  },
  {
   "cell_type": "code",
   "execution_count": 0,
   "metadata": {
    "application/vnd.databricks.v1+cell": {
     "cellMetadata": {
      "byteLimit": 2048000,
      "rowLimit": 10000
     },
     "inputWidgets": {},
     "nuid": "3fc7bec8-eea3-45f4-9f80-94507e7b07cd",
     "showTitle": false,
     "title": ""
    }
   },
   "outputs": [],
   "source": [
    "%sql\n",
    "CREATE CATALOG IF NOT EXISTS dev;\n",
    "CREATE DATABASE IF NOT EXISTS dev.demo_db;\n",
    "\n",
    "CREATE EXTERNAL LOCATION IF NOT EXISTS external_data\n",
    "URL 'abfss://dbfs-container@prashantsa.dfs.core.windows.net/dataset_ch9'\n",
    "WITH (CREDENTIAL `scholarnest-storage-credential`);\n",
    "\n",
    "CREATE EXTERNAL VOLUME IF NOT EXISTS dev.demo_db.landing_zone\n",
    "LOCATION 'abfss://dbfs-container@prashantsa.dfs.core.windows.net/dataset_ch9';"
   ]
  },
  {
   "cell_type": "markdown",
   "metadata": {
    "application/vnd.databricks.v1+cell": {
     "cellMetadata": {
      "byteLimit": 2048000,
      "rowLimit": 10000
     },
     "inputWidgets": {},
     "nuid": "585a53ee-fb28-4554-be1d-91c78cbfaeac",
     "showTitle": false,
     "title": ""
    }
   },
   "source": [
    "#####4. Ingest some data"
   ]
  },
  {
   "cell_type": "code",
   "execution_count": 0,
   "metadata": {
    "application/vnd.databricks.v1+cell": {
     "cellMetadata": {
      "byteLimit": 2048000,
      "rowLimit": 10000
     },
     "inputWidgets": {},
     "nuid": "8d4bdbd4-10dd-4250-ade8-78605c59f408",
     "showTitle": false,
     "title": ""
    }
   },
   "outputs": [],
   "source": [
    "%fs \n",
    "mkdirs /Volumes/dev/demo_db/landing_zone/customers/"
   ]
  },
  {
   "cell_type": "code",
   "execution_count": 0,
   "metadata": {
    "application/vnd.databricks.v1+cell": {
     "cellMetadata": {
      "byteLimit": 2048000,
      "rowLimit": 10000
     },
     "inputWidgets": {},
     "nuid": "a2a31a05-8f5c-418e-8a16-7efb9cd55837",
     "showTitle": false,
     "title": ""
    }
   },
   "outputs": [],
   "source": [
    "%fs \n",
    "mkdirs /Volumes/dev/demo_db/landing_zone/invoices/"
   ]
  },
  {
   "cell_type": "code",
   "execution_count": 0,
   "metadata": {
    "application/vnd.databricks.v1+cell": {
     "cellMetadata": {
      "byteLimit": 2048000,
      "rowLimit": 10000
     },
     "inputWidgets": {},
     "nuid": "5b563ebb-60d6-443c-b813-a80254d67dab",
     "showTitle": false,
     "title": ""
    }
   },
   "outputs": [],
   "source": [
    "%fs \n",
    "cp /Volumes/dev/demo_db/landing_zone/customers_1.csv /Volumes/dev/demo_db/landing_zone/customers"
   ]
  },
  {
   "cell_type": "code",
   "execution_count": 0,
   "metadata": {
    "application/vnd.databricks.v1+cell": {
     "cellMetadata": {
      "byteLimit": 2048000,
      "rowLimit": 10000
     },
     "inputWidgets": {},
     "nuid": "fe0731b5-00fb-42ef-bbcb-2f56fad09f48",
     "showTitle": false,
     "title": ""
    }
   },
   "outputs": [],
   "source": [
    "%fs \n",
    "cp /Volumes/dev/demo_db/landing_zone/invoices_2021.csv /Volumes/dev/demo_db/landing_zone/invoices"
   ]
  },
  {
   "cell_type": "code",
   "execution_count": 0,
   "metadata": {
    "application/vnd.databricks.v1+cell": {
     "cellMetadata": {
      "byteLimit": 2048000,
      "rowLimit": 10000
     },
     "inputWidgets": {},
     "nuid": "fbdea64e-a115-4d02-86c3-cbe49ef74ce4",
     "showTitle": false,
     "title": ""
    }
   },
   "outputs": [],
   "source": [
    "%fs \n",
    "cp /Volumes/dev/demo_db/landing_zone/invoices_2022.csv /Volumes/dev/demo_db/landing_zone/invoices"
   ]
  },
  {
   "cell_type": "markdown",
   "metadata": {
    "application/vnd.databricks.v1+cell": {
     "cellMetadata": {
      "byteLimit": 2048000,
      "rowLimit": 10000
     },
     "inputWidgets": {},
     "nuid": "e5df5c99-2c77-4eaa-8955-30edca7156e7",
     "showTitle": false,
     "title": ""
    }
   },
   "source": [
    "#####5. Create and run the DLT pipeline"
   ]
  },
  {
   "cell_type": "markdown",
   "metadata": {
    "application/vnd.databricks.v1+cell": {
     "cellMetadata": {
      "byteLimit": 2048000,
      "rowLimit": 10000
     },
     "inputWidgets": {},
     "nuid": "5d28f87b-f359-4ba3-8ac7-1b9a422667fd",
     "showTitle": false,
     "title": ""
    }
   },
   "source": [
    "#####6. Check the final results table"
   ]
  },
  {
   "cell_type": "code",
   "execution_count": 0,
   "metadata": {
    "application/vnd.databricks.v1+cell": {
     "cellMetadata": {
      "byteLimit": 2048000,
      "rowLimit": 10000
     },
     "inputWidgets": {},
     "nuid": "2f05cd65-7cc9-44f6-985f-f031b19f86f2",
     "showTitle": false,
     "title": ""
    }
   },
   "outputs": [],
   "source": [
    "%sql\n",
    "select * from dev.demo_db.daily_sales_uk_2022"
   ]
  },
  {
   "cell_type": "code",
   "execution_count": 0,
   "metadata": {
    "application/vnd.databricks.v1+cell": {
     "cellMetadata": {
      "byteLimit": 2048000,
      "rowLimit": 10000
     },
     "inputWidgets": {},
     "nuid": "c687fcd8-e52a-495c-ba79-5c9e71edbce5",
     "showTitle": false,
     "title": ""
    }
   },
   "outputs": [],
   "source": [
    "%sql\n",
    "describe extended dev.demo_db.daily_sales_uk_2022"
   ]
  },
  {
   "cell_type": "markdown",
   "metadata": {
    "application/vnd.databricks.v1+cell": {
     "cellMetadata": {
      "byteLimit": 2048000,
      "rowLimit": 10000
     },
     "inputWidgets": {},
     "nuid": "d644a5d7-9fcd-413d-84a4-702d9a949779",
     "showTitle": false,
     "title": ""
    }
   },
   "source": [
    "#####7. Ingest some more data"
   ]
  },
  {
   "cell_type": "code",
   "execution_count": 0,
   "metadata": {
    "application/vnd.databricks.v1+cell": {
     "cellMetadata": {
      "byteLimit": 2048000,
      "rowLimit": 10000
     },
     "inputWidgets": {},
     "nuid": "14a6eb56-2cfa-4705-a836-6d517ce5f288",
     "showTitle": false,
     "title": ""
    }
   },
   "outputs": [],
   "source": [
    "%fs \n",
    "cp /Volumes/dev/demo_db/landing_zone/customers_2.csv /Volumes/dev/demo_db/landing_zone/customers"
   ]
  },
  {
   "cell_type": "code",
   "execution_count": 0,
   "metadata": {
    "application/vnd.databricks.v1+cell": {
     "cellMetadata": {
      "byteLimit": 2048000,
      "rowLimit": 10000
     },
     "inputWidgets": {},
     "nuid": "787a920a-1199-48db-b040-a8cab6db9a37",
     "showTitle": false,
     "title": ""
    }
   },
   "outputs": [],
   "source": [
    "%fs \n",
    "cp /Volumes/dev/demo_db/landing_zone/invoices_01-06-2022.csv /Volumes/dev/demo_db/landing_zone/invoices"
   ]
  },
  {
   "cell_type": "code",
   "execution_count": 0,
   "metadata": {
    "application/vnd.databricks.v1+cell": {
     "cellMetadata": {
      "byteLimit": 2048000,
      "rowLimit": 10000
     },
     "inputWidgets": {},
     "nuid": "7d46e922-6543-4945-9320-900c7dd177b2",
     "showTitle": false,
     "title": ""
    }
   },
   "outputs": [],
   "source": [
    "%fs \n",
    "cp /Volumes/dev/demo_db/landing_zone/invoices_02-06-2022.csv /Volumes/dev/demo_db/landing_zone/invoices"
   ]
  },
  {
   "cell_type": "code",
   "execution_count": 0,
   "metadata": {
    "application/vnd.databricks.v1+cell": {
     "cellMetadata": {
      "byteLimit": 2048000,
      "rowLimit": 10000
     },
     "inputWidgets": {},
     "nuid": "fb262908-858e-4da4-835a-fa1c4aa5deeb",
     "showTitle": false,
     "title": ""
    }
   },
   "outputs": [],
   "source": [
    "%fs \n",
    "cp /Volumes/dev/demo_db/landing_zone/invoices_03-06-2022.csv /Volumes/dev/demo_db/landing_zone/invoices"
   ]
  },
  {
   "cell_type": "markdown",
   "metadata": {
    "application/vnd.databricks.v1+cell": {
     "cellMetadata": {
      "byteLimit": 2048000,
      "rowLimit": 10000
     },
     "inputWidgets": {},
     "nuid": "5fe50baa-ecab-40f1-94b9-89107e44c80e",
     "showTitle": false,
     "title": ""
    }
   },
   "source": [
    "#####8. Run the DLT pipeline"
   ]
  },
  {
   "cell_type": "markdown",
   "metadata": {
    "application/vnd.databricks.v1+cell": {
     "cellMetadata": {
      "byteLimit": 2048000,
      "rowLimit": 10000
     },
     "inputWidgets": {},
     "nuid": "70d28ff4-013a-42ca-b565-5281c9f691a0",
     "showTitle": false,
     "title": ""
    }
   },
   "source": [
    "#####9. Check the results table"
   ]
  },
  {
   "cell_type": "code",
   "execution_count": 0,
   "metadata": {
    "application/vnd.databricks.v1+cell": {
     "cellMetadata": {
      "byteLimit": 2048000,
      "rowLimit": 10000
     },
     "inputWidgets": {},
     "nuid": "1fb3a005-ab63-4c93-9448-95550abb5ce3",
     "showTitle": false,
     "title": ""
    }
   },
   "outputs": [],
   "source": [
    "%sql\n",
    "select * from dev.demo_db.daily_sales_uk_2022"
   ]
  },
  {
   "cell_type": "markdown",
   "metadata": {
    "application/vnd.databricks.v1+cell": {
     "cellMetadata": {
      "byteLimit": 2048000,
      "rowLimit": 10000
     },
     "inputWidgets": {},
     "nuid": "c3507745-33c4-4a6e-8ccd-f2cd1f83327d",
     "showTitle": false,
     "title": ""
    }
   },
   "source": [
    "#####10. Check your SCD2 dimension"
   ]
  },
  {
   "cell_type": "code",
   "execution_count": 0,
   "metadata": {
    "application/vnd.databricks.v1+cell": {
     "cellMetadata": {
      "byteLimit": 2048000,
      "rowLimit": 10000
     },
     "inputWidgets": {},
     "nuid": "a93be71d-d85a-4d78-b5e0-d5c954e36460",
     "showTitle": false,
     "title": ""
    }
   },
   "outputs": [],
   "source": [
    "%sql\n",
    "select * from dev.demo_db.customers where customer_id=15311"
   ]
  }
 ],
 "metadata": {
  "application/vnd.databricks.v1+notebook": {
   "dashboards": [],
   "language": "python",
   "notebookMetadata": {
    "mostRecentlyExecutedCommandWithImplicitDF": {
     "commandId": 1430468197344836,
     "dataframes": [
      "_sqldf"
     ]
    },
    "pythonIndentUnit": 4
   },
   "notebookName": "23-Setup Objects and Dataset for DLT",
   "widgets": {}
  }
 },
 "nbformat": 4,
 "nbformat_minor": 0
}
