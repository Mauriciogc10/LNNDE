{
 "cells": [
  {
   "cell_type": "markdown",
   "metadata": {
    "application/vnd.databricks.v1+cell": {
     "cellMetadata": {},
     "inputWidgets": {},
     "nuid": "fecfee6d-11e8-43eb-8e31-e1fc39e6ee54",
     "showTitle": false,
     "title": ""
    }
   },
   "source": [
    "<div style=\"text-align: center; line-height: 0; padding-top: 9px;\">\n",
    "  <img src=\"https://blog.scholarnest.com/wp-content/uploads/2023/03/scholarnest-academy-scaled.jpg\" alt=\"ScholarNest Academy\" style=\"width: 1400px\">\n",
    "</div>"
   ]
  },
  {
   "cell_type": "markdown",
   "metadata": {
    "application/vnd.databricks.v1+cell": {
     "cellMetadata": {},
     "inputWidgets": {},
     "nuid": "0dd2a8e5-a4c0-4026-bb04-27c08c0af434",
     "showTitle": false,
     "title": ""
    }
   },
   "source": [
    "#####Cleanup previous runs"
   ]
  },
  {
   "cell_type": "code",
   "execution_count": 0,
   "metadata": {
    "application/vnd.databricks.v1+cell": {
     "cellMetadata": {
      "byteLimit": 2048000,
      "rowLimit": 10000
     },
     "inputWidgets": {},
     "nuid": "35b3eb09-8e39-4449-b1f7-059c23354f46",
     "showTitle": false,
     "title": ""
    }
   },
   "outputs": [],
   "source": [
    "%run ../utils/cleanup"
   ]
  },
  {
   "cell_type": "markdown",
   "metadata": {
    "application/vnd.databricks.v1+cell": {
     "cellMetadata": {},
     "inputWidgets": {},
     "nuid": "e99584f6-decd-4fc5-99da-c8f7db0fd908",
     "showTitle": false,
     "title": ""
    }
   },
   "source": [
    "#####Setup"
   ]
  },
  {
   "cell_type": "code",
   "execution_count": 0,
   "metadata": {
    "application/vnd.databricks.v1+cell": {
     "cellMetadata": {
      "byteLimit": 2048000,
      "rowLimit": 10000
     },
     "inputWidgets": {},
     "nuid": "370b290a-7ac2-40c6-9d6d-4889aecbcda2",
     "showTitle": false,
     "title": ""
    }
   },
   "outputs": [],
   "source": [
    "spark.sql(\"CREATE CATALOG IF NOT EXISTS dev\")\n",
    "spark.sql(\"CREATE DATABASE IF NOT EXISTS dev.demo_db\")\n",
    "spark.sql(\"CREATE VOLUME IF NOT EXISTS dev.demo_db.files\")\n",
    "\n",
    "raw_df = (spark.read\n",
    "            .format(\"csv\")\n",
    "            .option(\"header\", \"true\")\n",
    "            .option(\"inferSchema\",\"true\")\n",
    "            .load(\"/databricks-datasets/learning-spark-v2/sf-fire/sf-fire-calls.csv\")\n",
    ")\n",
    "\n",
    "from pyspark.sql.functions import to_date, to_timestamp, round, year\n",
    "staging_df = (raw_df.withColumnRenamed(\"Call Number\", \"CallNumber\")\n",
    "                    .withColumnRenamed(\"Unit ID\", \"UnitID\")\n",
    "                    .withColumnRenamed(\"Incident Number\", \"IncidentNumber\")\n",
    "                    .withColumnRenamed(\"Call Date\", \"CallDate\")\n",
    "                    .withColumnRenamed(\"Watch Date\", \"WatchDate\")\n",
    "                    .withColumnRenamed(\"Call Final Disposition\", \"CallFinalDisposition\")\n",
    "                    .withColumnRenamed(\"Available DtTm\", \"AvailableDtTm\")\n",
    "                    .withColumnRenamed(\"Zipcode of Incident\", \"Zipcode\")\n",
    "                    .withColumnRenamed(\"Station Area\", \"StationArea\")\n",
    "                    .withColumnRenamed(\"Final Priority\", \"FinalPriority\")\n",
    "                    .withColumnRenamed(\"ALS Unit\", \"ALSUnit\")\n",
    "                    .withColumnRenamed(\"Call Type Group\", \"CallTypeGroup\")\n",
    "                    .withColumnRenamed(\"Unit sequence in call dispatch\", \"UnitSequenceInCallDispatch\")\n",
    "                    .withColumnRenamed(\"Fire Prevention District\", \"FirePreventionDistrict\")\n",
    "                    .withColumnRenamed(\"Supervisor District\", \"SupervisorDistrict\")\n",
    "                    .withColumn(\"CallDate\", to_date(\"CallDate\", \"MM/dd/yyyy\"))\n",
    "                    .withColumn(\"WatchDate\", to_date(\"WatchDate\", \"MM/dd/yyyy\"))\n",
    "                    .withColumn(\"AvailableDtTm\", to_timestamp(\"AvailableDtTm\", \"MM/dd/yyyy hh:mm:ss a\"))\n",
    "                    .withColumn(\"Delay\", round(\"Delay\", 2))\n",
    "                    .withColumn(\"Year\", year(\"CallDate\"))\n",
    ")\n",
    "\n",
    "(staging_df.write\n",
    "        .format(\"delta\")\n",
    "        .mode(\"overwrite\")\n",
    "        .save(\"/Volumes/dev/demo_db/files/fire_calls_tbl\")\n",
    ")"
   ]
  },
  {
   "cell_type": "markdown",
   "metadata": {
    "application/vnd.databricks.v1+cell": {
     "cellMetadata": {},
     "inputWidgets": {},
     "nuid": "8135868b-fabd-453a-8775-9a60ba2af5f6",
     "showTitle": false,
     "title": ""
    }
   },
   "source": [
    "#####1. Check the delta data directory"
   ]
  },
  {
   "cell_type": "code",
   "execution_count": 0,
   "metadata": {
    "application/vnd.databricks.v1+cell": {
     "cellMetadata": {
      "byteLimit": 2048000,
      "rowLimit": 10000
     },
     "inputWidgets": {},
     "nuid": "bd2da751-cb60-4284-94fc-c1c93eb22278",
     "showTitle": false,
     "title": ""
    }
   },
   "outputs": [],
   "source": []
  },
  {
   "cell_type": "markdown",
   "metadata": {
    "application/vnd.databricks.v1+cell": {
     "cellMetadata": {},
     "inputWidgets": {},
     "nuid": "674f2cb7-e8b9-4bb6-a3c1-e6ca92970890",
     "showTitle": false,
     "title": ""
    }
   },
   "source": [
    "#####2. What is inside _delta_log"
   ]
  },
  {
   "cell_type": "code",
   "execution_count": 0,
   "metadata": {
    "application/vnd.databricks.v1+cell": {
     "cellMetadata": {
      "byteLimit": 2048000,
      "implicitDf": true,
      "rowLimit": 10000
     },
     "inputWidgets": {},
     "nuid": "31e60f02-7665-4647-a8e7-0aec1a4be740",
     "showTitle": false,
     "title": ""
    }
   },
   "outputs": [],
   "source": []
  },
  {
   "cell_type": "markdown",
   "metadata": {
    "application/vnd.databricks.v1+cell": {
     "cellMetadata": {},
     "inputWidgets": {},
     "nuid": "9a243065-83a9-4430-8249-8b24bc970e7a",
     "showTitle": false,
     "title": ""
    }
   },
   "source": [
    "#####3. Apply a delete transaction and checkout delta log and data files"
   ]
  },
  {
   "cell_type": "code",
   "execution_count": 0,
   "metadata": {
    "application/vnd.databricks.v1+cell": {
     "cellMetadata": {
      "byteLimit": 2048000,
      "implicitDf": true,
      "rowLimit": 10000
     },
     "inputWidgets": {},
     "nuid": "0ccba129-9fd3-421f-816d-17ec691e7d7d",
     "showTitle": false,
     "title": ""
    }
   },
   "outputs": [],
   "source": []
  },
  {
   "cell_type": "markdown",
   "metadata": {
    "application/vnd.databricks.v1+cell": {
     "cellMetadata": {},
     "inputWidgets": {},
     "nuid": "372d54e6-5856-4df6-bcee-3c7b504c41df",
     "showTitle": false,
     "title": ""
    }
   },
   "source": [
    "#####4. Why do you see new data files after deleting some records?"
   ]
  },
  {
   "cell_type": "code",
   "execution_count": 0,
   "metadata": {
    "application/vnd.databricks.v1+cell": {
     "cellMetadata": {
      "byteLimit": 2048000,
      "implicitDf": true,
      "rowLimit": 10000
     },
     "inputWidgets": {},
     "nuid": "1379fc1f-ec36-499a-bcf5-cb5a0db2e20b",
     "showTitle": false,
     "title": ""
    }
   },
   "outputs": [],
   "source": []
  },
  {
   "cell_type": "markdown",
   "metadata": {
    "application/vnd.databricks.v1+cell": {
     "cellMetadata": {},
     "inputWidgets": {},
     "nuid": "fd4d77f0-0cf4-43cc-8dc6-d1216d51f9b8",
     "showTitle": false,
     "title": ""
    }
   },
   "source": [
    "&copy; 2021-2023 ScholarNest Technologies Pvt. Ltd. All rights reserved.<br/>\n",
    "Apache, Apache Spark, Spark and the Spark logo are trademarks of the <a href=\"https://www.apache.org/\">Apache Software Foundation</a>.<br/>\n",
    "Databricks, Databricks Cloud and the Databricks logo are trademarks of the <a href=\"https://www.databricks.com/\">Databricks Inc</a>.<br/>\n",
    "<br/>\n",
    "<a href=\"https://www.scholarnest.com/privacy/\">Privacy Policy</a> | \n",
    "<a href=\"https://www.scholarnest.com/terms/\">Terms of Use</a> | <a href=\"https://www.scholarnest.com/contact/\">Contact Us</a>"
   ]
  }
 ],
 "metadata": {
  "application/vnd.databricks.v1+notebook": {
   "dashboards": [],
   "language": "python",
   "notebookMetadata": {
    "mostRecentlyExecutedCommandWithImplicitDF": {
     "commandId": 2294196522737335,
     "dataframes": [
      "_sqldf"
     ]
    },
    "pythonIndentUnit": 4
   },
   "notebookName": "16-Inside Delta Table - Exercise",
   "widgets": {}
  }
 },
 "nbformat": 4,
 "nbformat_minor": 0
}
