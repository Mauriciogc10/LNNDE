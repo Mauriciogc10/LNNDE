{
 "cells": [
  {
   "cell_type": "markdown",
   "metadata": {
    "application/vnd.databricks.v1+cell": {
     "cellMetadata": {},
     "inputWidgets": {},
     "nuid": "c65efd2c-56a1-45eb-810d-2506812147e3",
     "showTitle": false,
     "title": ""
    }
   },
   "source": [
    "<div style=\"text-align: center; line-height: 0; padding-top: 9px;\">\n",
    "  <img src=\"https://blog.scholarnest.com/wp-content/uploads/2023/03/scholarnest-academy-scaled.jpg\" alt=\"ScholarNest Academy\" style=\"width: 1400px\">\n",
    "</div>"
   ]
  },
  {
   "cell_type": "markdown",
   "metadata": {
    "application/vnd.databricks.v1+cell": {
     "cellMetadata": {},
     "inputWidgets": {},
     "nuid": "2837c45c-0bde-425f-a447-16e058bf3999",
     "showTitle": false,
     "title": ""
    }
   },
   "source": [
    "#####1. Show the list of all available databricks utilities"
   ]
  },
  {
   "cell_type": "code",
   "execution_count": 0,
   "metadata": {
    "application/vnd.databricks.v1+cell": {
     "cellMetadata": {},
     "inputWidgets": {},
     "nuid": "3125114a-4590-4853-bfd6-f20306fddb81",
     "showTitle": false,
     "title": ""
    }
   },
   "outputs": [],
   "source": [
    "dbutils.help()"
   ]
  },
  {
   "cell_type": "markdown",
   "metadata": {
    "application/vnd.databricks.v1+cell": {
     "cellMetadata": {},
     "inputWidgets": {},
     "nuid": "55ed00e1-44b2-4514-800a-a7f79c60e6b9",
     "showTitle": false,
     "title": ""
    }
   },
   "source": [
    "#####2. Show the documentation for fs utility"
   ]
  },
  {
   "cell_type": "code",
   "execution_count": 0,
   "metadata": {
    "application/vnd.databricks.v1+cell": {
     "cellMetadata": {},
     "inputWidgets": {},
     "nuid": "ff750fc8-8d16-4349-b034-70fe9977507d",
     "showTitle": false,
     "title": ""
    }
   },
   "outputs": [],
   "source": [
    "dbutils.fs.help()"
   ]
  },
  {
   "cell_type": "markdown",
   "metadata": {
    "application/vnd.databricks.v1+cell": {
     "cellMetadata": {},
     "inputWidgets": {},
     "nuid": "1854009a-c464-4aa1-ad2e-e1e4b300b0cb",
     "showTitle": false,
     "title": ""
    }
   },
   "source": [
    "#####3. Show the documentation for the cp command of the fs utiltity"
   ]
  },
  {
   "cell_type": "code",
   "execution_count": 0,
   "metadata": {
    "application/vnd.databricks.v1+cell": {
     "cellMetadata": {},
     "inputWidgets": {},
     "nuid": "2eddec51-8cb1-497a-8af5-22114fafdca6",
     "showTitle": false,
     "title": ""
    }
   },
   "outputs": [],
   "source": [
    "dbutils.fs.help(\"cp\")"
   ]
  },
  {
   "cell_type": "markdown",
   "metadata": {
    "application/vnd.databricks.v1+cell": {
     "cellMetadata": {},
     "inputWidgets": {},
     "nuid": "8074a44c-b728-4466-8bd9-4c8bf3a178f6",
     "showTitle": false,
     "title": ""
    }
   },
   "source": [
    "#####4. Use the file system command to list the content of the following directory\n",
    "```\n",
    "/databricks-datasets\n",
    "```  "
   ]
  },
  {
   "cell_type": "code",
   "execution_count": 0,
   "metadata": {
    "application/vnd.databricks.v1+cell": {
     "cellMetadata": {},
     "inputWidgets": {},
     "nuid": "ecbb6d18-c926-4dd7-abdb-5df802fd50ab",
     "showTitle": false,
     "title": ""
    }
   },
   "outputs": [],
   "source": [
    "%fs\n",
    "ls /databricks-datasets"
   ]
  },
  {
   "cell_type": "markdown",
   "metadata": {
    "application/vnd.databricks.v1+cell": {
     "cellMetadata": {},
     "inputWidgets": {},
     "nuid": "6353f0db-f174-473d-9325-8bf2d3d60774",
     "showTitle": false,
     "title": ""
    }
   },
   "source": [
    "#####5. Use the file system utility to list the content of the following directory\n",
    "```\n",
    "\t/databricks-datasets\n",
    "```"
   ]
  },
  {
   "cell_type": "code",
   "execution_count": 0,
   "metadata": {
    "application/vnd.databricks.v1+cell": {
     "cellMetadata": {},
     "inputWidgets": {},
     "nuid": "66188fd3-c2d9-4758-8a1e-6604403dd6ea",
     "showTitle": false,
     "title": ""
    }
   },
   "outputs": [],
   "source": [
    "dbutils.fs.ls(\"/databricks-datasets\")"
   ]
  },
  {
   "cell_type": "markdown",
   "metadata": {
    "application/vnd.databricks.v1+cell": {
     "cellMetadata": {},
     "inputWidgets": {},
     "nuid": "b7cf9e08-cd00-467c-afff-89950185245d",
     "showTitle": false,
     "title": ""
    }
   },
   "source": [
    "#####6.Loop through the items in the databricks-datasets and print the path of each item"
   ]
  },
  {
   "cell_type": "code",
   "execution_count": 0,
   "metadata": {
    "application/vnd.databricks.v1+cell": {
     "cellMetadata": {},
     "inputWidgets": {},
     "nuid": "5426559c-d2b8-4e92-9c30-054a5620ca2e",
     "showTitle": false,
     "title": ""
    }
   },
   "outputs": [],
   "source": [
    "for items in dbutils.fs.ls(\"/databricks-datasets\"):\n",
    "    print(items.path)"
   ]
  },
  {
   "cell_type": "markdown",
   "metadata": {
    "application/vnd.databricks.v1+cell": {
     "cellMetadata": {},
     "inputWidgets": {},
     "nuid": "0678dfcb-3ea6-432e-abd3-0bdb552352fd",
     "showTitle": false,
     "title": ""
    }
   },
   "source": [
    "#####7. Show the documentation for the notebook utiltity"
   ]
  },
  {
   "cell_type": "code",
   "execution_count": 0,
   "metadata": {
    "application/vnd.databricks.v1+cell": {
     "cellMetadata": {},
     "inputWidgets": {},
     "nuid": "ee26a9a7-9e36-4774-8f7b-c2d9d9eca751",
     "showTitle": false,
     "title": ""
    }
   },
   "outputs": [],
   "source": [
    "dbutils.notebook.help()"
   ]
  },
  {
   "cell_type": "markdown",
   "metadata": {
    "application/vnd.databricks.v1+cell": {
     "cellMetadata": {},
     "inputWidgets": {},
     "nuid": "3b7ca30d-bcfa-454b-8922-2dd3b7c7f44e",
     "showTitle": false,
     "title": ""
    }
   },
   "source": [
    "#####8. Create a new notebook (03-child-notebook) and type the following code\n",
    "```python\n",
    "  print(\"I am a child notebook\")\n",
    "  dbutils.notebook.exit(101)\n",
    "``` \n",
    "Call the child-notebook from the next cell "
   ]
  },
  {
   "cell_type": "code",
   "execution_count": 0,
   "metadata": {
    "application/vnd.databricks.v1+cell": {
     "cellMetadata": {},
     "inputWidgets": {},
     "nuid": "435e019e-b985-468e-9ff8-d7e2579d81c6",
     "showTitle": false,
     "title": ""
    }
   },
   "outputs": [],
   "source": [
    "dbutils.notebook.run(\"./03-child-notebook\", 10)"
   ]
  },
  {
   "cell_type": "markdown",
   "metadata": {
    "application/vnd.databricks.v1+cell": {
     "cellMetadata": {},
     "inputWidgets": {},
     "nuid": "1f490216-3d6f-4199-aba0-c5fbef705a58",
     "showTitle": false,
     "title": ""
    }
   },
   "source": [
    "#####9. Show help of the widgets utility"
   ]
  },
  {
   "cell_type": "code",
   "execution_count": 0,
   "metadata": {
    "application/vnd.databricks.v1+cell": {
     "cellMetadata": {},
     "inputWidgets": {},
     "nuid": "08abb52c-b2b3-45b9-acb6-76e8b7d81ba0",
     "showTitle": false,
     "title": ""
    }
   },
   "outputs": [],
   "source": [
    "dbutils.widgets.help()"
   ]
  },
  {
   "cell_type": "markdown",
   "metadata": {
    "application/vnd.databricks.v1+cell": {
     "cellMetadata": {},
     "inputWidgets": {},
     "nuid": "df2f05c4-7112-4bd5-a7de-24c456d74393",
     "showTitle": false,
     "title": ""
    }
   },
   "source": [
    "#####10. Do the following in the child notebook\n",
    "1. Add a msg argument to the child notebook\n",
    "2. Retrive the msg from the dbutils into a python variable\n",
    "3. Print a new message in the child notebook to print the argument\n",
    "```python\n",
    "dbutils.widgets.text(\"msg\", \"\", \"Your input parameter\")\n",
    "p_msg = dbutils.widgets.get(\"msg\")\n",
    "print(\"I am a child notebook and recieved \" + p_msg )\n",
    "dbutils.notebook.exit(\"Success\")\n",
    "```\n",
    "\n",
    "Call the child notebook in the next cell passing the notebook argument"
   ]
  },
  {
   "cell_type": "code",
   "execution_count": 0,
   "metadata": {
    "application/vnd.databricks.v1+cell": {
     "cellMetadata": {},
     "inputWidgets": {},
     "nuid": "52e4eec1-8d5c-4403-aa11-b83dac376acd",
     "showTitle": false,
     "title": ""
    }
   },
   "outputs": [],
   "source": [
    "status = dbutils.notebook.run(\"./03-child-notebook\", 10, {\"msg\":\"call from parent\"})\n",
    "print(\"Received: \" + status)"
   ]
  },
  {
   "cell_type": "markdown",
   "metadata": {
    "application/vnd.databricks.v1+cell": {
     "cellMetadata": {},
     "inputWidgets": {},
     "nuid": "e5819a52-c08f-4692-9a06-fe30c26dac86",
     "showTitle": false,
     "title": ""
    }
   },
   "source": [
    "&copy; 2021-2023 ScholarNest Technologies Pvt. Ltd. All rights reserved.<br/>\n",
    "Apache, Apache Spark, Spark and the Spark logo are trademarks of the <a href=\"https://www.apache.org/\">Apache Software Foundation</a>.<br/>\n",
    "Databricks, Databricks Cloud and the Databricks logo are trademarks of the <a href=\"https://www.databricks.com/\">Databricks Inc</a>.<br/>\n",
    "<br/>\n",
    "<a href=\"https://www.scholarnest.com/privacy/\">Privacy Policy</a> | \n",
    "<a href=\"https://www.scholarnest.com/terms/\">Terms of Use</a> | <a href=\"https://www.scholarnest.com/contact/\">Contact Us</a>"
   ]
  }
 ],
 "metadata": {
  "application/vnd.databricks.v1+notebook": {
   "dashboards": [],
   "language": "python",
   "notebookMetadata": {
    "pythonIndentUnit": 4
   },
   "notebookName": "02-Databricks Utils - Solution",
   "widgets": {}
  }
 },
 "nbformat": 4,
 "nbformat_minor": 0
}
