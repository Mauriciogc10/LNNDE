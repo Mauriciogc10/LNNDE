{
 "cells": [
  {
   "cell_type": "markdown",
   "metadata": {
    "application/vnd.databricks.v1+cell": {
     "cellMetadata": {},
     "inputWidgets": {},
     "nuid": "ac3de998-89ca-4deb-8227-bcff026cef3f",
     "showTitle": false,
     "title": ""
    }
   },
   "source": [
    "<div style=\"text-align: center; line-height: 0; padding-top: 9px;\">\n",
    "  <img src=\"https://blog.scholarnest.com/wp-content/uploads/2023/03/scholarnest-academy-scaled.jpg\" alt=\"ScholarNest Academy\" style=\"width: 1400px\">\n",
    "</div>"
   ]
  },
  {
   "cell_type": "markdown",
   "metadata": {
    "application/vnd.databricks.v1+cell": {
     "cellMetadata": {},
     "inputWidgets": {},
     "nuid": "80210c59-789c-44e2-813a-c5c2ba0fc887",
     "showTitle": false,
     "title": ""
    }
   },
   "source": [
    "#####1. Show the list of all available databricks utilities"
   ]
  },
  {
   "cell_type": "code",
   "execution_count": 0,
   "metadata": {
    "application/vnd.databricks.v1+cell": {
     "cellMetadata": {},
     "inputWidgets": {},
     "nuid": "07f58198-4e67-42c4-8ade-3063c872c25d",
     "showTitle": false,
     "title": ""
    }
   },
   "outputs": [],
   "source": []
  },
  {
   "cell_type": "markdown",
   "metadata": {
    "application/vnd.databricks.v1+cell": {
     "cellMetadata": {},
     "inputWidgets": {},
     "nuid": "4f42178a-c1f3-4375-b9c9-2b9e481487dc",
     "showTitle": false,
     "title": ""
    }
   },
   "source": [
    "#####2. Show the documentation for fs utility"
   ]
  },
  {
   "cell_type": "code",
   "execution_count": 0,
   "metadata": {
    "application/vnd.databricks.v1+cell": {
     "cellMetadata": {},
     "inputWidgets": {},
     "nuid": "0ac0447c-1a78-414f-8df6-3d7eadd3ac5b",
     "showTitle": false,
     "title": ""
    }
   },
   "outputs": [],
   "source": []
  },
  {
   "cell_type": "markdown",
   "metadata": {
    "application/vnd.databricks.v1+cell": {
     "cellMetadata": {},
     "inputWidgets": {},
     "nuid": "d82cbd9d-c798-4bd7-9ebd-c1d1ffab090c",
     "showTitle": false,
     "title": ""
    }
   },
   "source": [
    "#####3. Show the documentation for the cp command of the fs utiltity"
   ]
  },
  {
   "cell_type": "code",
   "execution_count": 0,
   "metadata": {
    "application/vnd.databricks.v1+cell": {
     "cellMetadata": {},
     "inputWidgets": {},
     "nuid": "562e3339-97c7-40db-b372-10094ad25856",
     "showTitle": false,
     "title": ""
    }
   },
   "outputs": [],
   "source": []
  },
  {
   "cell_type": "markdown",
   "metadata": {
    "application/vnd.databricks.v1+cell": {
     "cellMetadata": {},
     "inputWidgets": {},
     "nuid": "8e8023b0-8463-4278-9919-12575af1d9bd",
     "showTitle": false,
     "title": ""
    }
   },
   "source": [
    "#####4. Use the file system command to list the content of the following directory\n",
    "```\n",
    "/databricks-datasets\n",
    "```  "
   ]
  },
  {
   "cell_type": "code",
   "execution_count": 0,
   "metadata": {
    "application/vnd.databricks.v1+cell": {
     "cellMetadata": {},
     "inputWidgets": {},
     "nuid": "3f4f7e2c-69c0-4d7a-9125-a43587e32194",
     "showTitle": false,
     "title": ""
    }
   },
   "outputs": [],
   "source": []
  },
  {
   "cell_type": "markdown",
   "metadata": {
    "application/vnd.databricks.v1+cell": {
     "cellMetadata": {},
     "inputWidgets": {},
     "nuid": "dc2a520e-14f1-455b-b2dc-70cd52c43aca",
     "showTitle": false,
     "title": ""
    }
   },
   "source": [
    "#####5. Use the file system utility to list the content of the following directory\n",
    "```\n",
    "\t/databricks-datasets\n",
    "```"
   ]
  },
  {
   "cell_type": "code",
   "execution_count": 0,
   "metadata": {
    "application/vnd.databricks.v1+cell": {
     "cellMetadata": {},
     "inputWidgets": {},
     "nuid": "f722d863-8a9b-4660-bcbc-24166d940c25",
     "showTitle": false,
     "title": ""
    }
   },
   "outputs": [],
   "source": []
  },
  {
   "cell_type": "markdown",
   "metadata": {
    "application/vnd.databricks.v1+cell": {
     "cellMetadata": {},
     "inputWidgets": {},
     "nuid": "7199dd9e-595a-4692-9a84-1073f50fa7e4",
     "showTitle": false,
     "title": ""
    }
   },
   "source": [
    "#####6.Loop through the items in the databricks-datasets and print the path of each item"
   ]
  },
  {
   "cell_type": "code",
   "execution_count": 0,
   "metadata": {
    "application/vnd.databricks.v1+cell": {
     "cellMetadata": {},
     "inputWidgets": {},
     "nuid": "4d5b41d2-c8d1-46a7-b8b5-86970161666a",
     "showTitle": false,
     "title": ""
    }
   },
   "outputs": [],
   "source": []
  },
  {
   "cell_type": "markdown",
   "metadata": {
    "application/vnd.databricks.v1+cell": {
     "cellMetadata": {},
     "inputWidgets": {},
     "nuid": "a25bc0ad-fb8b-42f7-bfa1-43b6ce6294ea",
     "showTitle": false,
     "title": ""
    }
   },
   "source": [
    "#####7. Show the documentation for the notebook utiltity"
   ]
  },
  {
   "cell_type": "code",
   "execution_count": 0,
   "metadata": {
    "application/vnd.databricks.v1+cell": {
     "cellMetadata": {},
     "inputWidgets": {},
     "nuid": "6300e8f5-2bad-494a-9770-6555a6aabd00",
     "showTitle": false,
     "title": ""
    }
   },
   "outputs": [],
   "source": []
  },
  {
   "cell_type": "markdown",
   "metadata": {
    "application/vnd.databricks.v1+cell": {
     "cellMetadata": {},
     "inputWidgets": {},
     "nuid": "e6edec77-24cf-4394-8c45-bf95cf14eca1",
     "showTitle": false,
     "title": ""
    }
   },
   "source": [
    "#####8. Create a new notebook (03-child-notebook) and type the following code\n",
    "```python\n",
    "  print(\"I am a child notebook\")\n",
    "  dbutils.notebook.exit(101)\n",
    "``` \n",
    "Call the child-notebook from the next cell "
   ]
  },
  {
   "cell_type": "code",
   "execution_count": 0,
   "metadata": {
    "application/vnd.databricks.v1+cell": {
     "cellMetadata": {},
     "inputWidgets": {},
     "nuid": "8e3ea60f-655f-4cbd-a4b7-99d15f97ac5a",
     "showTitle": false,
     "title": ""
    }
   },
   "outputs": [],
   "source": []
  },
  {
   "cell_type": "markdown",
   "metadata": {
    "application/vnd.databricks.v1+cell": {
     "cellMetadata": {},
     "inputWidgets": {},
     "nuid": "8cb6991f-5bb0-4dbf-9e54-a019eba86d1e",
     "showTitle": false,
     "title": ""
    }
   },
   "source": [
    "#####9. Show help of the widgets utility"
   ]
  },
  {
   "cell_type": "code",
   "execution_count": 0,
   "metadata": {
    "application/vnd.databricks.v1+cell": {
     "cellMetadata": {},
     "inputWidgets": {},
     "nuid": "09a42c57-3f50-4890-82b5-cebdcaef24bd",
     "showTitle": false,
     "title": ""
    }
   },
   "outputs": [],
   "source": []
  },
  {
   "cell_type": "markdown",
   "metadata": {
    "application/vnd.databricks.v1+cell": {
     "cellMetadata": {},
     "inputWidgets": {},
     "nuid": "72543796-72f2-453e-a7b1-dd49f70e8028",
     "showTitle": false,
     "title": ""
    }
   },
   "source": [
    "#####10. Do the following in the child notebook\n",
    "1. Add a msg argument to the child notebook\n",
    "2. Retrive the msg from the dbutils into a python variable\n",
    "3. Print a new message in the child notebook to print the argument\n",
    "```python\n",
    "dbutils.widgets.text(\"msg\", \"\", \"Your input parameter\")\n",
    "p_msg = dbutils.widgets.get(\"msg\")\n",
    "print(\"I am a child notebook and recieved \" + p_msg )\n",
    "dbutils.notebook.exit(\"Success\")\n",
    "```\n",
    "\n",
    "Call the child notebook in the next cell passing the notebook argument"
   ]
  },
  {
   "cell_type": "code",
   "execution_count": 0,
   "metadata": {
    "application/vnd.databricks.v1+cell": {
     "cellMetadata": {},
     "inputWidgets": {},
     "nuid": "64826fe7-b7c5-46b6-afaa-842f6a4e3e21",
     "showTitle": false,
     "title": ""
    }
   },
   "outputs": [],
   "source": []
  },
  {
   "cell_type": "markdown",
   "metadata": {
    "application/vnd.databricks.v1+cell": {
     "cellMetadata": {},
     "inputWidgets": {},
     "nuid": "34dc4437-6d1f-4211-825c-5aec116648ca",
     "showTitle": false,
     "title": ""
    }
   },
   "source": [
    "&copy; 2021-2023 ScholarNest Technologies Pvt. Ltd. All rights reserved.<br/>\n",
    "Apache, Apache Spark, Spark and the Spark logo are trademarks of the <a href=\"https://www.apache.org/\">Apache Software Foundation</a>.<br/>\n",
    "Databricks, Databricks Cloud and the Databricks logo are trademarks of the <a href=\"https://www.databricks.com/\">Databricks Inc</a>.<br/>\n",
    "<br/>\n",
    "<a href=\"https://www.scholarnest.com/privacy/\">Privacy Policy</a> | \n",
    "<a href=\"https://www.scholarnest.com/terms/\">Terms of Use</a> | <a href=\"https://www.scholarnest.com/contact/\">Contact Us</a>"
   ]
  }
 ],
 "metadata": {
  "application/vnd.databricks.v1+notebook": {
   "dashboards": [],
   "language": "python",
   "notebookMetadata": {
    "pythonIndentUnit": 4
   },
   "notebookName": "02-Databricks Utils - Exercise",
   "widgets": {}
  }
 },
 "nbformat": 4,
 "nbformat_minor": 0
}
